{
 "cells": [
  {
   "cell_type": "markdown",
   "metadata": {},
   "source": [
    "# Hand Landmarks\n",
    "![Hand Land Marks](https://mediapipe.dev/images/mobile/hand_landmarks.png)"
   ]
  },
  {
   "cell_type": "code",
   "execution_count": 17,
   "metadata": {},
   "outputs": [
    {
     "name": "stdout",
     "output_type": "stream",
     "text": [
      "Unique lengths of sequences in data: {42, 84}\n",
      "Data shape: (3896, 21)\n",
      "Labels shape: (3896,)\n",
      "98.33333333333333% of samples were classified correctly!\n"
     ]
    }
   ],
   "source": [
    "\n",
    "import pickle\n",
    "from sklearn.svm import SVC\n",
    "from sklearn.model_selection import train_test_split\n",
    "from sklearn.metrics import accuracy_score\n",
    "import numpy as np\n",
    "\n",
    "# Load data\n",
    "data_dict = pickle.load(open('./data.pickle', 'rb'))\n",
    "# Check for inconsistent lengths in the data\n",
    "lengths = [len(x) for x in data_dict['data']]\n",
    "unique_lengths = set(lengths)\n",
    "\n",
    "print(\"Unique lengths of sequences in data:\", unique_lengths)\n",
    "\n",
    "# Find indices where the sequence length is not 42\n",
    "# if len(unique_lengths) > 1:\n",
    "#     inconsistent_data = [i for i, x in enumerate(data_dict['data']) if len(x) != 42]\n",
    "#     print(\"Indices with inconsistent lengths:\", inconsistent_data)\n",
    "\n",
    "filtered_data = []\n",
    "filtered_labels = []\n",
    "\n",
    "for i, sequence in enumerate(data_dict['data']):\n",
    "    if len(sequence) == 42:  # Check for correct sequence length\n",
    "        filtered_data.append(sequence)\n",
    "        filtered_labels.append(data_dict['labels'][i])\n",
    "        \n",
    "\n",
    "\n",
    "# Convert filtered data and labels to numpy arrays\n",
    "data = np.array(filtered_data)\n",
    "labels = np.array(filtered_labels)\n",
    "\n",
    "# Slice to keep only the first 21 landmarks\n",
    "data_one_hand = data[:, :21]   \n",
    "\n",
    "\n",
    "# Ensure both have the same length now\n",
    "print(f\"Data shape: {data_one_hand.shape}\")\n",
    "print(f\"Labels shape: {labels.shape}\")\n",
    "\n",
    "\n",
    "# Split the data into training and testing sets\n",
    "x_train, x_test, y_train, y_test = train_test_split(data, labels, test_size=0.2, shuffle=True, stratify=labels)\n",
    "\n",
    "# Initialize the SVM model with RBF kernel\n",
    "model = SVC(kernel='rbf')\n",
    "\n",
    "# Train the model\n",
    "model.fit(x_train, y_train)\n",
    "\n",
    "# Make predictions\n",
    "y_predict = model.predict(x_test)\n",
    "\n",
    "# Calculate the accuracy score\n",
    "score = accuracy_score(y_predict, y_test)\n",
    "\n",
    "# Output the accuracy\n",
    "print('{}% of samples were classified correctly!'.format(score * 100))\n",
    "\n",
    "# Save the model\n",
    "f = open('model.p', 'wb')\n",
    "pickle.dump({'model': model}, f)\n",
    "f.close()"
   ]
  }
 ],
 "metadata": {
  "kernelspec": {
   "display_name": "Python 3",
   "language": "python",
   "name": "python3"
  },
  "language_info": {
   "codemirror_mode": {
    "name": "ipython",
    "version": 3
   },
   "file_extension": ".py",
   "mimetype": "text/x-python",
   "name": "python",
   "nbconvert_exporter": "python",
   "pygments_lexer": "ipython3",
   "version": "3.11.4"
  }
 },
 "nbformat": 4,
 "nbformat_minor": 2
}
